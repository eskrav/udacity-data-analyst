{
 "cells": [
  {
   "cell_type": "markdown",
   "metadata": {},
   "source": [
    "# Written Internal Report\n",
    "\n",
    "*Ekaterina Kravtchenko*"
   ]
  },
  {
   "cell_type": "markdown",
   "metadata": {},
   "source": [
    "I first gathered the data supplied to me, downloaded the document with dog breed predictions, and unfortunately had to get the API data from the project manager, as my developer account was not approved in time by Twitter.  I then examined the data, and noticed several clear issues with the account - some data was extracted incorrectly, many columns were formatted incorrectly, and some column types did not correspond to the data type.\n",
    "\n",
    "I first removed all non-original tweets, and tweets without images, from the dataset, to avoid any issues when joining or creating tables, in terms of ensuring that all contained only the relevant tweets.\n",
    "\n",
    "I then did some basic tidying - removing unneeded columns, creating other columns which made certain information easier to access, joining the API data to the main twitter archive, and tidying up some columns which contained lists of several different items.  After this, I re-assessed.\n",
    "\n",
    "On the second round of cleaning, I fixed multiple column types, expressed a few columns as a more-easy-to-interpret-and-reference true/false format, removed extraneous strings from other columns, checked for and inserted missing data, and removed data for irrelevant tweets from the predictions table.  With respect to the missing data, there are probably a few edge cases of mis-labeled tweets that I missed, but the archive is too large to go through in its entirety, so I tested for the most obvious outliers and false values.\n",
    "\n",
    "I then did a final re-assessment, and some final tidying and quality fixes.  Following this, I created a few (fairly dirty) exploratory plots, and decided to focus on those relationships which were most apparent or interesting.  I finally created cleaned-up plots of these relationships, filtering out irrelevant or extreme data to make the relationships more clear."
   ]
  }
 ],
 "metadata": {
  "kernelspec": {
   "display_name": "Python 3",
   "language": "python",
   "name": "python3"
  },
  "language_info": {
   "codemirror_mode": {
    "name": "ipython",
    "version": 3
   },
   "file_extension": ".py",
   "mimetype": "text/x-python",
   "name": "python",
   "nbconvert_exporter": "python",
   "pygments_lexer": "ipython3",
   "version": "3.6.5"
  }
 },
 "nbformat": 4,
 "nbformat_minor": 2
}
